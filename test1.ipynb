{
  "nbformat": 4,
  "nbformat_minor": 0,
  "metadata": {
    "colab": {
      "name": "test1.ipynb",
      "provenance": [],
      "collapsed_sections": [],
      "include_colab_link": true
    },
    "kernelspec": {
      "name": "python3",
      "display_name": "Python 3"
    }
  },
  "cells": [
    {
      "cell_type": "markdown",
      "metadata": {
        "id": "view-in-github",
        "colab_type": "text"
      },
      "source": [
        "<a href=\"https://colab.research.google.com/github/Kittinun-p/phone/blob/master/test1.ipynb\" target=\"_parent\"><img src=\"https://colab.research.google.com/assets/colab-badge.svg\" alt=\"Open In Colab\"/></a>"
      ]
    },
    {
      "cell_type": "markdown",
      "metadata": {
        "id": "DglZpvkyiRZU",
        "colab_type": "text"
      },
      "source": [
        "# Hello Python\n",
        "## Hello Python\n",
        "### Hello Python"
      ]
    },
    {
      "cell_type": "code",
      "metadata": {
        "id": "3ja5Q84uhyLE",
        "colab_type": "code",
        "colab": {
          "base_uri": "https://localhost:8080/",
          "height": 34
        },
        "outputId": "4e7ff598-41a9-4c98-84ae-5dee848d14c2"
      },
      "source": [
        "print(\"Hello World\")"
      ],
      "execution_count": 1,
      "outputs": [
        {
          "output_type": "stream",
          "text": [
            "Hello World\n"
          ],
          "name": "stdout"
        }
      ]
    },
    {
      "cell_type": "markdown",
      "metadata": {
        "id": "TxexUmOPinmh",
        "colab_type": "text"
      },
      "source": [
        ""
      ]
    },
    {
      "cell_type": "markdown",
      "metadata": {
        "id": "ULAwkdbqjKxC",
        "colab_type": "text"
      },
      "source": [
        "# Declare Variable\n",
        "How to declare variable in python"
      ]
    },
    {
      "cell_type": "code",
      "metadata": {
        "id": "FqJ81MwtjXO5",
        "colab_type": "code",
        "colab": {
          "base_uri": "https://localhost:8080/",
          "height": 34
        },
        "outputId": "c244bc75-0f52-45ce-9e8c-9114bbab0506"
      },
      "source": [
        "score = 100\n",
        "name = \"Ph\"\n",
        "print(\"Name is \"+ name +\" score is \"+ str(score))"
      ],
      "execution_count": 2,
      "outputs": [
        {
          "output_type": "stream",
          "text": [
            "Name is Ph score is 100\n"
          ],
          "name": "stdout"
        }
      ]
    },
    {
      "cell_type": "code",
      "metadata": {
        "id": "ADELORFTjpvJ",
        "colab_type": "code",
        "colab": {
          "base_uri": "https://localhost:8080/",
          "height": 34
        },
        "outputId": "609723ac-759d-4b23-c43e-c8c8711f406c"
      },
      "source": [
        "a = 2\n",
        "b = 3\n",
        "c = a*b\n",
        "print(c)"
      ],
      "execution_count": 3,
      "outputs": [
        {
          "output_type": "stream",
          "text": [
            "6\n"
          ],
          "name": "stdout"
        }
      ]
    },
    {
      "cell_type": "markdown",
      "metadata": {
        "id": "PPpTlwvhm0Jo",
        "colab_type": "text"
      },
      "source": [
        ""
      ]
    },
    {
      "cell_type": "code",
      "metadata": {
        "id": "NCzXW9OincpV",
        "colab_type": "code",
        "colab": {}
      },
      "source": [
        ""
      ],
      "execution_count": 0,
      "outputs": []
    },
    {
      "cell_type": "code",
      "metadata": {
        "id": "Q-l11DeGnpR-",
        "colab_type": "code",
        "colab": {
          "base_uri": "https://localhost:8080/",
          "height": 34
        },
        "outputId": "555e8825-029b-4ec9-ed48-c6784936ada4"
      },
      "source": [
        "mylist = []\n",
        "mylist.append(\"ph\")\n",
        "mylist.append(200)\n",
        "mylist"
      ],
      "execution_count": 5,
      "outputs": [
        {
          "output_type": "execute_result",
          "data": {
            "text/plain": [
              "['ph', 200]"
            ]
          },
          "metadata": {
            "tags": []
          },
          "execution_count": 5
        }
      ]
    },
    {
      "cell_type": "code",
      "metadata": {
        "id": "3qqZtvZsnq_1",
        "colab_type": "code",
        "colab": {}
      },
      "source": [
        ""
      ],
      "execution_count": 0,
      "outputs": []
    },
    {
      "cell_type": "markdown",
      "metadata": {
        "id": "Q0-Zl_ownww-",
        "colab_type": "text"
      },
      "source": [
        "# How to use if -else python\n"
      ]
    },
    {
      "cell_type": "code",
      "metadata": {
        "id": "oRYyy1ifn4q9",
        "colab_type": "code",
        "colab": {
          "base_uri": "https://localhost:8080/",
          "height": 34
        },
        "outputId": "05f2dd98-4913-49e4-d246-1f335a9eeaa9"
      },
      "source": [
        "if mylist[1] > 100 :\n",
        "  print(\"Pass\")"
      ],
      "execution_count": 6,
      "outputs": [
        {
          "output_type": "stream",
          "text": [
            "Pass\n"
          ],
          "name": "stdout"
        }
      ]
    },
    {
      "cell_type": "code",
      "metadata": {
        "id": "lUdUWDc2oH39",
        "colab_type": "code",
        "colab": {
          "base_uri": "https://localhost:8080/",
          "height": 34
        },
        "outputId": "2fbcb2a5-7625-4f37-c877-ff98e7dc09c8"
      },
      "source": [
        "if mylist[1] > 100 :\n",
        "  name = mylist[0]\n",
        "  score = mylist[1]\n",
        "  print(name+\" \"+str(score))"
      ],
      "execution_count": 8,
      "outputs": [
        {
          "output_type": "stream",
          "text": [
            "ph 200\n"
          ],
          "name": "stdout"
        }
      ]
    },
    {
      "cell_type": "code",
      "metadata": {
        "id": "jwTRehRpoiF1",
        "colab_type": "code",
        "colab": {
          "base_uri": "https://localhost:8080/",
          "height": 34
        },
        "outputId": "307e2b75-05d5-489e-850f-ed4256a0f9db"
      },
      "source": [
        "if mylist[1] > 100 :\n",
        "  name = mylist[0]\n",
        "  score = mylist[1]\n",
        "  print(name+\" \"+str(score))\n",
        "elif mylist[1] > 200 :\n",
        "    print(\"very pass\")\n",
        "else :\n",
        "    print(\"super pass\")"
      ],
      "execution_count": 11,
      "outputs": [
        {
          "output_type": "stream",
          "text": [
            "ph 200\n"
          ],
          "name": "stdout"
        }
      ]
    },
    {
      "cell_type": "code",
      "metadata": {
        "id": "ZtLWEGtCo_jE",
        "colab_type": "code",
        "colab": {
          "base_uri": "https://localhost:8080/",
          "height": 34
        },
        "outputId": "ba06ebe8-6c22-4c95-9a76-20064f611822"
      },
      "source": [
        "sc = 10 \n",
        "if sc>10 :\n",
        "  print(\"A\")\n",
        "elif sc>20 :\n",
        "  print(\"B\")\n",
        "else :\n",
        "  print(\"C\")\n",
        "  if score == 0 :\n",
        "    print(\"F\")"
      ],
      "execution_count": 14,
      "outputs": [
        {
          "output_type": "stream",
          "text": [
            "C\n"
          ],
          "name": "stdout"
        }
      ]
    },
    {
      "cell_type": "code",
      "metadata": {
        "id": "TbQKTnIKp4XU",
        "colab_type": "code",
        "colab": {}
      },
      "source": [
        ""
      ],
      "execution_count": 0,
      "outputs": []
    },
    {
      "cell_type": "markdown",
      "metadata": {
        "id": "HZiUA8ViqOTt",
        "colab_type": "text"
      },
      "source": [
        "# For Loop"
      ]
    },
    {
      "cell_type": "code",
      "metadata": {
        "id": "v1-aehThqRiT",
        "colab_type": "code",
        "colab": {
          "base_uri": "https://localhost:8080/",
          "height": 204
        },
        "outputId": "de4acf7a-7328-4bf7-880d-71cd2f11296e"
      },
      "source": [
        "summation = 0\n",
        "for i in range(0,10) :\n",
        "  print(str(i))\n",
        "  summation = summation+1\n",
        "print(\"The summation result is \" + str(summation))"
      ],
      "execution_count": 17,
      "outputs": [
        {
          "output_type": "stream",
          "text": [
            "0\n",
            "1\n",
            "2\n",
            "3\n",
            "4\n",
            "5\n",
            "6\n",
            "7\n",
            "8\n",
            "9\n",
            "The summation result is 10\n"
          ],
          "name": "stdout"
        }
      ]
    },
    {
      "cell_type": "code",
      "metadata": {
        "id": "JIEJu33zq1c7",
        "colab_type": "code",
        "colab": {
          "base_uri": "https://localhost:8080/",
          "height": 204
        },
        "outputId": "76b421b4-3191-40e6-93d8-3ffb88b62932"
      },
      "source": [
        "summation = []\n",
        "a=0\n",
        "for i in range(0,10) :\n",
        "  a = a + 5\n",
        "  summation.append(a)\n",
        "  sum(summation)\n",
        "  \n",
        "for a in summation :\n",
        "   print(str(a))\n",
        "    \n",
        "print(\"result is \" + str(sum(summation)))"
      ],
      "execution_count": 29,
      "outputs": [
        {
          "output_type": "stream",
          "text": [
            "5\n",
            "10\n",
            "15\n",
            "20\n",
            "25\n",
            "30\n",
            "35\n",
            "40\n",
            "45\n",
            "50\n",
            "result is 275\n"
          ],
          "name": "stdout"
        }
      ]
    },
    {
      "cell_type": "code",
      "metadata": {
        "id": "qkc1yCGQrLtr",
        "colab_type": "code",
        "colab": {}
      },
      "source": [
        ""
      ],
      "execution_count": 0,
      "outputs": []
    }
  ]
}