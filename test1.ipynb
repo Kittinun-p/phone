{
  "nbformat": 4,
  "nbformat_minor": 0,
  "metadata": {
    "colab": {
      "name": "Untitled0.ipynb",
      "provenance": [],
      "include_colab_link": true
    },
    "kernelspec": {
      "name": "python3",
      "display_name": "Python 3"
    }
  },
  "cells": [
    {
      "cell_type": "markdown",
      "metadata": {
        "id": "view-in-github",
        "colab_type": "text"
      },
      "source": [
        "<a href=\"https://colab.research.google.com/github/Kittinun-p/phone/blob/master/test1.ipynb\" target=\"_parent\"><img src=\"https://colab.research.google.com/assets/colab-badge.svg\" alt=\"Open In Colab\"/></a>"
      ]
    },
    {
      "cell_type": "markdown",
      "metadata": {
        "id": "DglZpvkyiRZU",
        "colab_type": "text"
      },
      "source": [
        "# Hello Python\n",
        "## Hello Python\n",
        "### Hello Python"
      ]
    },
    {
      "cell_type": "code",
      "metadata": {
        "id": "3ja5Q84uhyLE",
        "colab_type": "code",
        "colab": {
          "base_uri": "https://localhost:8080/",
          "height": 34
        },
        "outputId": "4e7ff598-41a9-4c98-84ae-5dee848d14c2"
      },
      "source": [
        "print(\"Hello World\")"
      ],
      "execution_count": 1,
      "outputs": [
        {
          "output_type": "stream",
          "text": [
            "Hello World\n"
          ],
          "name": "stdout"
        }
      ]
    },
    {
      "cell_type": "markdown",
      "metadata": {
        "id": "TxexUmOPinmh",
        "colab_type": "text"
      },
      "source": [
        ""
      ]
    },
    {
      "cell_type": "markdown",
      "metadata": {
        "id": "ULAwkdbqjKxC",
        "colab_type": "text"
      },
      "source": [
        "# Declare Variable\n",
        "How to declare variable in python"
      ]
    },
    {
      "cell_type": "code",
      "metadata": {
        "id": "FqJ81MwtjXO5",
        "colab_type": "code",
        "colab": {
          "base_uri": "https://localhost:8080/",
          "height": 34
        },
        "outputId": "c244bc75-0f52-45ce-9e8c-9114bbab0506"
      },
      "source": [
        "score = 100\n",
        "name = \"Ph\"\n",
        "print(\"Name is \"+ name +\" score is \"+ str(score))"
      ],
      "execution_count": 2,
      "outputs": [
        {
          "output_type": "stream",
          "text": [
            "Name is Ph score is 100\n"
          ],
          "name": "stdout"
        }
      ]
    },
    {
      "cell_type": "code",
      "metadata": {
        "id": "ADELORFTjpvJ",
        "colab_type": "code",
        "colab": {
          "base_uri": "https://localhost:8080/",
          "height": 34
        },
        "outputId": "609723ac-759d-4b23-c43e-c8c8711f406c"
      },
      "source": [
        "a = 2\n",
        "b = 3\n",
        "c = a*b\n",
        "print(c)"
      ],
      "execution_count": 3,
      "outputs": [
        {
          "output_type": "stream",
          "text": [
            "6\n"
          ],
          "name": "stdout"
        }
      ]
    },
    {
      "cell_type": "code",
      "metadata": {
        "id": "hhnMoE6hkH_A",
        "colab_type": "code",
        "colab": {}
      },
      "source": [
        ""
      ],
      "execution_count": 0,
      "outputs": []
    }
  ]
}